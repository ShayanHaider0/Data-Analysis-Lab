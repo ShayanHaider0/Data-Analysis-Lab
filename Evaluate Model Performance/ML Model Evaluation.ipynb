{
  "cells": [
    {
      "cell_type": "markdown",
      "metadata": {
        "id": "E2RmKZcXpb_o"
      },
      "source": [
        "# **Task 2: Evaluate Model Performance**\n",
        "\n",
        "---\n",
        "In this project, we evaluate a Machine Learning model using multiple performance metrics such as **accuracy**, **precision**, **recall**, and **F1-score**, and visualize the results with a **confusion matrix** and **classification report**."
      ]
    },
    {
      "cell_type": "markdown",
      "source": [
        "**STEP 1: IMPORT LIBRARIES**"
      ],
      "metadata": {
        "id": "GCh_iUWbpt-I"
      }
    },
    {
      "cell_type": "code",
      "execution_count": 2,
      "metadata": {
        "colab": {
          "base_uri": "https://localhost:8080/"
        },
        "id": "mOpkSQG1pb_s",
        "outputId": "f0900b19-f14c-41af-9129-2fcb784c961c"
      },
      "outputs": [
        {
          "output_type": "stream",
          "name": "stdout",
          "text": [
            "Libraries imported successfully!\n"
          ]
        }
      ],
      "source": [
        "import pandas as pd\n",
        "import numpy as np\n",
        "import matplotlib.pyplot as plt\n",
        "import seaborn as sns\n",
        "from sklearn.datasets import load_iris\n",
        "from sklearn.model_selection import train_test_split\n",
        "from sklearn.linear_model import LogisticRegression\n",
        "from sklearn.metrics import (accuracy_score, precision_score, recall_score, f1_score, confusion_matrix, classification_report)\n",
        "print('Libraries imported successfully!')"
      ]
    },
    {
      "cell_type": "markdown",
      "source": [
        "**STEP 2: LOAD THE DATASET**"
      ],
      "metadata": {
        "id": "lQgefNGNp8Xv"
      }
    },
    {
      "cell_type": "code",
      "execution_count": 3,
      "metadata": {
        "colab": {
          "base_uri": "https://localhost:8080/"
        },
        "id": "vO9rhpRxpb_u",
        "outputId": "b10aa814-54f2-49a6-8c74-24d5ca58622a"
      },
      "outputs": [
        {
          "output_type": "stream",
          "name": "stdout",
          "text": [
            "Dataset Shape: (150, 4)\n",
            "Feature Names: ['sepal length (cm)', 'sepal width (cm)', 'petal length (cm)', 'petal width (cm)']\n",
            "Target Classes: ['setosa' 'versicolor' 'virginica']\n"
          ]
        }
      ],
      "source": [
        "iris = load_iris()\n",
        "X = iris.data\n",
        "y = iris.target\n",
        "print('Dataset Shape:', X.shape)\n",
        "print('Feature Names:', iris.feature_names)\n",
        "print('Target Classes:', iris.target_names)"
      ]
    },
    {
      "cell_type": "markdown",
      "source": [
        "**STEP 3: SPLIT DATA INTO TRAINING AND TESTING SETS**"
      ],
      "metadata": {
        "id": "MmfpXsKHqBb9"
      }
    },
    {
      "cell_type": "code",
      "execution_count": 4,
      "metadata": {
        "colab": {
          "base_uri": "https://localhost:8080/"
        },
        "id": "73XAn0mypb_v",
        "outputId": "bb0018ec-83fa-4070-be90-2c787c760188"
      },
      "outputs": [
        {
          "output_type": "stream",
          "name": "stdout",
          "text": [
            "Training Data Shape: (105, 4)\n",
            "Testing Data Shape: (45, 4)\n"
          ]
        }
      ],
      "source": [
        "X_train, X_test, y_train, y_test = train_test_split(X, y, test_size=0.3, random_state=42)\n",
        "print('Training Data Shape:', X_train.shape)\n",
        "print('Testing Data Shape:', X_test.shape)"
      ]
    },
    {
      "cell_type": "markdown",
      "source": [
        "**STEP 4: TRAIN THE MODEL**"
      ],
      "metadata": {
        "id": "_SlAy-skqFSn"
      }
    },
    {
      "cell_type": "code",
      "execution_count": 14,
      "metadata": {
        "colab": {
          "base_uri": "https://localhost:8080/"
        },
        "id": "vndZM63wpb_v",
        "outputId": "0fe04747-3894-46a1-c53b-9773673c06dc"
      },
      "outputs": [
        {
          "output_type": "stream",
          "name": "stdout",
          "text": [
            "Model trained successfully!\n"
          ]
        }
      ],
      "source": [
        "model = LogisticRegression(max_iter=200)\n",
        "model.fit(X_train, y_train)\n",
        "print('Model trained successfully!')"
      ]
    },
    {
      "cell_type": "markdown",
      "source": [
        "**STEP 5: MAKE PREDICTIONS**"
      ],
      "metadata": {
        "id": "uUFuI8oWqKkE"
      }
    },
    {
      "cell_type": "code",
      "execution_count": 13,
      "metadata": {
        "colab": {
          "base_uri": "https://localhost:8080/"
        },
        "id": "IgaGJLa0pb_w",
        "outputId": "aa9028c6-8566-4890-d23b-b3c6a9225e0b"
      },
      "outputs": [
        {
          "output_type": "stream",
          "name": "stdout",
          "text": [
            "First 10 Predictions: [1 0 2 1 1 0 1 2 1 1]\n",
            "Actual Labels: [1 0 2 1 1 0 1 2 1 1]\n"
          ]
        }
      ],
      "source": [
        "y_pred = model.predict(X_test)\n",
        "print('First 10 Predictions:', y_pred[:10])\n",
        "print('Actual Labels:', y_test[:10])"
      ]
    },
    {
      "cell_type": "markdown",
      "source": [
        "**STEP 6: EVALUATE MODEL PERFORMANCE**"
      ],
      "metadata": {
        "id": "SCxyhkp4qO8X"
      }
    },
    {
      "cell_type": "code",
      "execution_count": 12,
      "metadata": {
        "colab": {
          "base_uri": "https://localhost:8080/"
        },
        "id": "QpGgY19Opb_x",
        "outputId": "eff7c6f8-76d7-4c72-cf03-f7b23b0a36ca"
      },
      "outputs": [
        {
          "output_type": "stream",
          "name": "stdout",
          "text": [
            "Model Evaluation Metrics:\n",
            "Accuracy : 1.00\n",
            "Precision: 1.00\n",
            "Recall   : 1.00\n",
            "F1 Score : 1.00\n"
          ]
        }
      ],
      "source": [
        "accuracy = accuracy_score(y_test, y_pred)\n",
        "precision = precision_score(y_test, y_pred, average='weighted')\n",
        "recall = recall_score(y_test, y_pred, average='weighted')\n",
        "f1 = f1_score(y_test, y_pred, average='weighted')\n",
        "print('Model Evaluation Metrics:')\n",
        "print(f'Accuracy : {accuracy:.2f}')\n",
        "print(f'Precision: {precision:.2f}')\n",
        "print(f'Recall   : {recall:.2f}')\n",
        "print(f'F1 Score : {f1:.2f}')"
      ]
    },
    {
      "cell_type": "markdown",
      "source": [
        "**STEP 7: CLASSIFICATION REPORT**"
      ],
      "metadata": {
        "id": "l-ana0HvqVZT"
      }
    },
    {
      "cell_type": "code",
      "execution_count": 11,
      "metadata": {
        "colab": {
          "base_uri": "https://localhost:8080/"
        },
        "id": "dLbOem0Kpb_x",
        "outputId": "d25c83f5-eb6d-4afe-f102-8e8aadc59d83"
      },
      "outputs": [
        {
          "output_type": "stream",
          "name": "stdout",
          "text": [
            "Classification Report:\n",
            "\n",
            "              precision    recall  f1-score   support\n",
            "\n",
            "      setosa       1.00      1.00      1.00        19\n",
            "  versicolor       1.00      1.00      1.00        13\n",
            "   virginica       1.00      1.00      1.00        13\n",
            "\n",
            "    accuracy                           1.00        45\n",
            "   macro avg       1.00      1.00      1.00        45\n",
            "weighted avg       1.00      1.00      1.00        45\n",
            "\n"
          ]
        }
      ],
      "source": [
        "print('Classification Report:\\n')\n",
        "print(classification_report(y_test, y_pred, target_names=iris.target_names))"
      ]
    },
    {
      "cell_type": "markdown",
      "source": [
        "**STEP 8: VISUALIZE THE CONFUSION MATRIX**"
      ],
      "metadata": {
        "id": "LB2-8bj1qbyJ"
      }
    },
    {
      "cell_type": "code",
      "execution_count": 10,
      "metadata": {
        "colab": {
          "base_uri": "https://localhost:8080/",
          "height": 487
        },
        "id": "NneG081apb_y",
        "outputId": "dc4f686a-bc97-437b-847d-97b015befb89"
      },
      "outputs": [
        {
          "output_type": "display_data",
          "data": {
            "text/plain": [
              "<Figure size 600x500 with 2 Axes>"
            ],
            "image/png": "[encoded data removed]"
          },
          "metadata": {}
        }
      ],
      "source": [
        "cm = confusion_matrix(y_test, y_pred)\n",
        "plt.figure(figsize=(6, 5))\n",
        "sns.heatmap(cm, annot=True, fmt='d', cmap='Blues', xticklabels=iris.target_names, yticklabels=iris.target_names)\n",
        "plt.title('Confusion Matrix — Logistic Regression')\n",
        "plt.xlabel('Predicted Labels')\n",
        "plt.ylabel('True Labels')\n",
        "plt.show()"
      ]
    },
    {
      "cell_type": "markdown",
      "source": [
        "**CONCLUSION:**"
      ],
      "metadata": {
        "id": "onaVsgWbqfvY"
      }
    },
    {
      "cell_type": "markdown",
      "source": [
        "**PROJECT SUMMARY:**\n",
        "- Used Logistic Regression for classification on the Iris dataset.\n",
        "- Evaluated model using accuracy, precision, recall, and F1-score.\n",
        "- Visualized performance with a Confusion Matrix and Classification Report.\n",
        "\n",
        "**Outcome:**\n",
        "\n",
        "The model achieved high accuracy on the Iris dataset — showing it performs well in classifying flower species."
      ],
      "metadata": {
        "id": "9i8NW6gsqmRc"
      }
    }
  ],
  "metadata": {
    "kernelspec": {
      "display_name": "Python 3",
      "language": "python",
      "name": "python3"
    },
    "language_info": {
      "name": "python",
      "version": "3.x"
    },
    "colab": {
      "provenance": []
    }
  },
  "nbformat": 4,
  "nbformat_minor": 0
}