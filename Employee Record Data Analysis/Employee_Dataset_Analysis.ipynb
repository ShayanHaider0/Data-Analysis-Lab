{
  "nbformat": 4,
  "nbformat_minor": 0,
  "metadata": {
    "colab": {
      "provenance": []
    },
    "kernelspec": {
      "name": "python3",
      "display_name": "Python 3"
    },
    "language_info": {
      "name": "python"
    }
  },
  "cells": [
    {
      "cell_type": "markdown",
      "source": [
        "**EMPLOYEE DATASET ANALYSIS:**\n",
        "---\n",
        "\n",
        "\n"
      ],
      "metadata": {
        "id": "J9hyNcgmqWof"
      }
    },
    {
      "cell_type": "markdown",
      "source": [
        "This project loads the **employee_records** file through a csv file saved in the local machine."
      ],
      "metadata": {
        "id": "aMxqGESJqkEI"
      }
    },
    {
      "cell_type": "code",
      "source": [
        "import pandas as pd\n",
        "\n",
        "employee = pd.read_csv('employee_records.csv')\n",
        "employee.head()"
      ],
      "metadata": {
        "colab": {
          "base_uri": "https://localhost:8080/",
          "height": 206
        },
        "id": "qwU06jRWqwpJ",
        "outputId": "a14f8c64-e047-47fb-84dc-5b87e19a442a"
      },
      "execution_count": 11,
      "outputs": [
        {
          "output_type": "execute_result",
          "data": {
            "text/plain": [
              "   Employee_ID    Employee_Name  Age    Country Department    Position  \\\n",
              "0            1    Daniel Taylor   25         UK         HR     Analyst   \n",
              "1            2      Ethan Brown   44      India  Marketing   Executive   \n",
              "2            3  Sophia Martinez   51      Japan    Finance   Developer   \n",
              "3            4   Ethan Martinez   47    Germany    Support     Analyst   \n",
              "4            5        Mia Brown   32  Australia    Support  Consultant   \n",
              "\n",
              "      Salary Joining_Date  \n",
              "0  142278.32   2023-06-04  \n",
              "1   98549.20   2018-01-13  \n",
              "2   85565.84   2015-04-30  \n",
              "3   34513.67   2015-06-17  \n",
              "4   45339.72   2019-02-22  "
            ],
            "text/html": [
              "\n",
              "  <div id=\"df-e156865c-c2de-42b2-989a-42277a95f60b\" class=\"colab-df-container\">\n",
              "    <div>\n",
              "<style scoped>\n",
              "    .dataframe tbody tr th:only-of-type {\n",
              "        vertical-align: middle;\n",
              "    }\n",
              "\n",
              "    .dataframe tbody tr th {\n",
              "        vertical-align: top;\n",
              "    }\n",
              "\n",
              "    .dataframe thead th {\n",
              "        text-align: right;\n",
              "    }\n",
              "</style>\n",
              "<table border=\"1\" class=\"dataframe\">\n",
              "  <thead>\n",
              "    <tr style=\"text-align: right;\">\n",
              "      <th></th>\n",
              "      <th>Employee_ID</th>\n",
              "      <th>Employee_Name</th>\n",
              "      <th>Age</th>\n",
              "      <th>Country</th>\n",
              "      <th>Department</th>\n",
              "      <th>Position</th>\n",
              "      <th>Salary</th>\n",
              "      <th>Joining_Date</th>\n",
              "    </tr>\n",
              "  </thead>\n",
              "  <tbody>\n",
              "    <tr>\n",
              "      <th>0</th>\n",
              "      <td>1</td>\n",
              "      <td>Daniel Taylor</td>\n",
              "      <td>25</td>\n",
              "      <td>UK</td>\n",
              "      <td>HR</td>\n",
              "      <td>Analyst</td>\n",
              "      <td>142278.32</td>\n",
              "      <td>2023-06-04</td>\n",
              "    </tr>\n",
              "    <tr>\n",
              "      <th>1</th>\n",
              "      <td>2</td>\n",
              "      <td>Ethan Brown</td>\n",
              "      <td>44</td>\n",
              "      <td>India</td>\n",
              "      <td>Marketing</td>\n",
              "      <td>Executive</td>\n",
              "      <td>98549.20</td>\n",
              "      <td>2018-01-13</td>\n",
              "    </tr>\n",
              "    <tr>\n",
              "      <th>2</th>\n",
              "      <td>3</td>\n",
              "      <td>Sophia Martinez</td>\n",
              "      <td>51</td>\n",
              "      <td>Japan</td>\n",
              "      <td>Finance</td>\n",
              "      <td>Developer</td>\n",
              "      <td>85565.84</td>\n",
              "      <td>2015-04-30</td>\n",
              "    </tr>\n",
              "    <tr>\n",
              "      <th>3</th>\n",
              "      <td>4</td>\n",
              "      <td>Ethan Martinez</td>\n",
              "      <td>47</td>\n",
              "      <td>Germany</td>\n",
              "      <td>Support</td>\n",
              "      <td>Analyst</td>\n",
              "      <td>34513.67</td>\n",
              "      <td>2015-06-17</td>\n",
              "    </tr>\n",
              "    <tr>\n",
              "      <th>4</th>\n",
              "      <td>5</td>\n",
              "      <td>Mia Brown</td>\n",
              "      <td>32</td>\n",
              "      <td>Australia</td>\n",
              "      <td>Support</td>\n",
              "      <td>Consultant</td>\n",
              "      <td>45339.72</td>\n",
              "      <td>2019-02-22</td>\n",
              "    </tr>\n",
              "  </tbody>\n",
              "</table>\n",
              "</div>\n",
              "    <div class=\"colab-df-buttons\">\n",
              "\n",
              "  <div class=\"colab-df-container\">\n",
              "    <button class=\"colab-df-convert\" onclick=\"convertToInteractive('df-e156865c-c2de-42b2-989a-42277a95f60b')\"\n",
              "            title=\"Convert this dataframe to an interactive table.\"\n",
              "            style=\"display:none;\">\n",
              "\n",
              "  <svg xmlns=\"http://www.w3.org/2000/svg\" height=\"24px\" viewBox=\"0 -960 960 960\">\n",
              "    <path d=\"M120-120v-720h720v720H120Zm60-500h600v-160H180v160Zm220 220h160v-160H400v160Zm0 220h160v-160H400v160ZM180-400h160v-160H180v160Zm440 0h160v-160H620v160ZM180-180h160v-160H180v160Zm440 0h160v-160H620v160Z\"/>\n",
              "  </svg>\n",
              "    </button>\n",
              "\n",
              "  <style>\n",
              "    .colab-df-container {\n",
              "      display:flex;\n",
              "      gap: 12px;\n",
              "    }\n",
              "\n",
              "    .colab-df-convert {\n",
              "      background-color: #E8F0FE;\n",
              "      border: none;\n",
              "      border-radius: 50%;\n",
              "      cursor: pointer;\n",
              "      display: none;\n",
              "      fill: #1967D2;\n",
              "      height: 32px;\n",
              "      padding: 0 0 0 0;\n",
              "      width: 32px;\n",
              "    }\n",
              "\n",
              "    .colab-df-convert:hover {\n",
              "      background-color: #E2EBFA;\n",
              "      box-shadow: 0px 1px 2px rgba(60, 64, 67, 0.3), 0px 1px 3px 1px rgba(60, 64, 67, 0.15);\n",
              "      fill: #174EA6;\n",
              "    }\n",
              "\n",
              "    .colab-df-buttons div {\n",
              "      margin-bottom: 4px;\n",
              "    }\n",
              "\n",
              "    [theme=dark] .colab-df-convert {\n",
              "      background-color: #3B4455;\n",
              "      fill: #D2E3FC;\n",
              "    }\n",
              "\n",
              "    [theme=dark] .colab-df-convert:hover {\n",
              "      background-color: #434B5C;\n",
              "      box-shadow: 0px 1px 3px 1px rgba(0, 0, 0, 0.15);\n",
              "      filter: drop-shadow(0px 1px 2px rgba(0, 0, 0, 0.3));\n",
              "      fill: #FFFFFF;\n",
              "    }\n",
              "  </style>\n",
              "\n",
              "    <script>\n",
              "      const buttonEl =\n",
              "        document.querySelector('#df-e156865c-c2de-42b2-989a-42277a95f60b button.colab-df-convert');\n",
              "      buttonEl.style.display =\n",
              "        google.colab.kernel.accessAllowed ? 'block' : 'none';\n",
              "\n",
              "      async function convertToInteractive(key) {\n",
              "        const element = document.querySelector('#df-e156865c-c2de-42b2-989a-42277a95f60b');\n",
              "        const dataTable =\n",
              "          await google.colab.kernel.invokeFunction('convertToInteractive',\n",
              "                                                    [key], {});\n",
              "        if (!dataTable) return;\n",
              "\n",
              "        const docLinkHtml = 'Like what you see? Visit the ' +\n",
              "          '<a target=\"_blank\" href=https://colab.research.google.com/notebooks/data_table.ipynb>data table notebook</a>'\n",
              "          + ' to learn more about interactive tables.';\n",
              "        element.innerHTML = '';\n",
              "        dataTable['output_type'] = 'display_data';\n",
              "        await google.colab.output.renderOutput(dataTable, element);\n",
              "        const docLink = document.createElement('div');\n",
              "        docLink.innerHTML = docLinkHtml;\n",
              "        element.appendChild(docLink);\n",
              "      }\n",
              "    </script>\n",
              "  </div>\n",
              "\n",
              "\n",
              "    <div id=\"df-a2d48953-8230-463b-b845-98589e02dca4\">\n",
              "      <button class=\"colab-df-quickchart\" onclick=\"quickchart('df-a2d48953-8230-463b-b845-98589e02dca4')\"\n",
              "                title=\"Suggest charts\"\n",
              "                style=\"display:none;\">\n",
              "\n",
              "<svg xmlns=\"http://www.w3.org/2000/svg\" height=\"24px\"viewBox=\"0 0 24 24\"\n",
              "     width=\"24px\">\n",
              "    <g>\n",
              "        <path d=\"M19 3H5c-1.1 0-2 .9-2 2v14c0 1.1.9 2 2 2h14c1.1 0 2-.9 2-2V5c0-1.1-.9-2-2-2zM9 17H7v-7h2v7zm4 0h-2V7h2v10zm4 0h-2v-4h2v4z\"/>\n",
              "    </g>\n",
              "</svg>\n",
              "      </button>\n",
              "\n",
              "<style>\n",
              "  .colab-df-quickchart {\n",
              "      --bg-color: #E8F0FE;\n",
              "      --fill-color: #1967D2;\n",
              "      --hover-bg-color: #E2EBFA;\n",
              "      --hover-fill-color: #174EA6;\n",
              "      --disabled-fill-color: #AAA;\n",
              "      --disabled-bg-color: #DDD;\n",
              "  }\n",
              "\n",
              "  [theme=dark] .colab-df-quickchart {\n",
              "      --bg-color: #3B4455;\n",
              "      --fill-color: #D2E3FC;\n",
              "      --hover-bg-color: #434B5C;\n",
              "      --hover-fill-color: #FFFFFF;\n",
              "      --disabled-bg-color: #3B4455;\n",
              "      --disabled-fill-color: #666;\n",
              "  }\n",
              "\n",
              "  .colab-df-quickchart {\n",
              "    background-color: var(--bg-color);\n",
              "    border: none;\n",
              "    border-radius: 50%;\n",
              "    cursor: pointer;\n",
              "    display: none;\n",
              "    fill: var(--fill-color);\n",
              "    height: 32px;\n",
              "    padding: 0;\n",
              "    width: 32px;\n",
              "  }\n",
              "\n",
              "  .colab-df-quickchart:hover {\n",
              "    background-color: var(--hover-bg-color);\n",
              "    box-shadow: 0 1px 2px rgba(60, 64, 67, 0.3), 0 1px 3px 1px rgba(60, 64, 67, 0.15);\n",
              "    fill: var(--button-hover-fill-color);\n",
              "  }\n",
              "\n",
              "  .colab-df-quickchart-complete:disabled,\n",
              "  .colab-df-quickchart-complete:disabled:hover {\n",
              "    background-color: var(--disabled-bg-color);\n",
              "    fill: var(--disabled-fill-color);\n",
              "    box-shadow: none;\n",
              "  }\n",
              "\n",
              "  .colab-df-spinner {\n",
              "    border: 2px solid var(--fill-color);\n",
              "    border-color: transparent;\n",
              "    border-bottom-color: var(--fill-color);\n",
              "    animation:\n",
              "      spin 1s steps(1) infinite;\n",
              "  }\n",
              "\n",
              "  @keyframes spin {\n",
              "    0% {\n",
              "      border-color: transparent;\n",
              "      border-bottom-color: var(--fill-color);\n",
              "      border-left-color: var(--fill-color);\n",
              "    }\n",
              "    20% {\n",
              "      border-color: transparent;\n",
              "      border-left-color: var(--fill-color);\n",
              "      border-top-color: var(--fill-color);\n",
              "    }\n",
              "    30% {\n",
              "      border-color: transparent;\n",
              "      border-left-color: var(--fill-color);\n",
              "      border-top-color: var(--fill-color);\n",
              "      border-right-color: var(--fill-color);\n",
              "    }\n",
              "    40% {\n",
              "      border-color: transparent;\n",
              "      border-right-color: var(--fill-color);\n",
              "      border-top-color: var(--fill-color);\n",
              "    }\n",
              "    60% {\n",
              "      border-color: transparent;\n",
              "      border-right-color: var(--fill-color);\n",
              "    }\n",
              "    80% {\n",
              "      border-color: transparent;\n",
              "      border-right-color: var(--fill-color);\n",
              "      border-bottom-color: var(--fill-color);\n",
              "    }\n",
              "    90% {\n",
              "      border-color: transparent;\n",
              "      border-bottom-color: var(--fill-color);\n",
              "    }\n",
              "  }\n",
              "</style>\n",
              "\n",
              "      <script>\n",
              "        async function quickchart(key) {\n",
              "          const quickchartButtonEl =\n",
              "            document.querySelector('#' + key + ' button');\n",
              "          quickchartButtonEl.disabled = true;  // To prevent multiple clicks.\n",
              "          quickchartButtonEl.classList.add('colab-df-spinner');\n",
              "          try {\n",
              "            const charts = await google.colab.kernel.invokeFunction(\n",
              "                'suggestCharts', [key], {});\n",
              "          } catch (error) {\n",
              "            console.error('Error during call to suggestCharts:', error);\n",
              "          }\n",
              "          quickchartButtonEl.classList.remove('colab-df-spinner');\n",
              "          quickchartButtonEl.classList.add('colab-df-quickchart-complete');\n",
              "        }\n",
              "        (() => {\n",
              "          let quickchartButtonEl =\n",
              "            document.querySelector('#df-a2d48953-8230-463b-b845-98589e02dca4 button');\n",
              "          quickchartButtonEl.style.display =\n",
              "            google.colab.kernel.accessAllowed ? 'block' : 'none';\n",
              "        })();\n",
              "      </script>\n",
              "    </div>\n",
              "\n",
              "    </div>\n",
              "  </div>\n"
            ],
            "application/vnd.google.colaboratory.intrinsic+json": {
              "type": "dataframe",
              "variable_name": "employee",
              "summary": "{\n  \"name\": \"employee\",\n  \"rows\": 30000,\n  \"fields\": [\n    {\n      \"column\": \"Employee_ID\",\n      \"properties\": {\n        \"dtype\": \"number\",\n        \"std\": 8660,\n        \"min\": 1,\n        \"max\": 30000,\n        \"num_unique_values\": 30000,\n        \"samples\": [\n          2309,\n          22405,\n          23398\n        ],\n        \"semantic_type\": \"\",\n        \"description\": \"\"\n      }\n    },\n    {\n      \"column\": \"Employee_Name\",\n      \"properties\": {\n        \"dtype\": \"category\",\n        \"num_unique_values\": 100,\n        \"samples\": [\n          \"Logan Thomas\",\n          \"Daniel Davis\",\n          \"Mason Moore\"\n        ],\n        \"semantic_type\": \"\",\n        \"description\": \"\"\n      }\n    },\n    {\n      \"column\": \"Age\",\n      \"properties\": {\n        \"dtype\": \"number\",\n        \"std\": 11,\n        \"min\": 22,\n        \"max\": 60,\n        \"num_unique_values\": 39,\n        \"samples\": [\n          59,\n          30,\n          32\n        ],\n        \"semantic_type\": \"\",\n        \"description\": \"\"\n      }\n    },\n    {\n      \"column\": \"Country\",\n      \"properties\": {\n        \"dtype\": \"category\",\n        \"num_unique_values\": 10,\n        \"samples\": [\n          \"Mexico\",\n          \"India\",\n          \"USA\"\n        ],\n        \"semantic_type\": \"\",\n        \"description\": \"\"\n      }\n    },\n    {\n      \"column\": \"Department\",\n      \"properties\": {\n        \"dtype\": \"category\",\n        \"num_unique_values\": 6,\n        \"samples\": [\n          \"HR\",\n          \"Marketing\",\n          \"Engineering\"\n        ],\n        \"semantic_type\": \"\",\n        \"description\": \"\"\n      }\n    },\n    {\n      \"column\": \"Position\",\n      \"properties\": {\n        \"dtype\": \"category\",\n        \"num_unique_values\": 6,\n        \"samples\": [\n          \"Analyst\",\n          \"Executive\",\n          \"Manager\"\n        ],\n        \"semantic_type\": \"\",\n        \"description\": \"\"\n      }\n    },\n    {\n      \"column\": \"Salary\",\n      \"properties\": {\n        \"dtype\": \"number\",\n        \"std\": 34625.27053316072,\n        \"min\": 30004.78,\n        \"max\": 149996.39,\n        \"num_unique_values\": 29962,\n        \"samples\": [\n          132455.53,\n          49552.15,\n          63557.15\n        ],\n        \"semantic_type\": \"\",\n        \"description\": \"\"\n      }\n    },\n    {\n      \"column\": \"Joining_Date\",\n      \"properties\": {\n        \"dtype\": \"object\",\n        \"num_unique_values\": 3649,\n        \"samples\": [\n          \"2018-11-26\",\n          \"2024-12-26\",\n          \"2024-08-09\"\n        ],\n        \"semantic_type\": \"\",\n        \"description\": \"\"\n      }\n    }\n  ]\n}"
            }
          },
          "metadata": {},
          "execution_count": 11
        }
      ]
    },
    {
      "cell_type": "markdown",
      "source": [
        "**Let’s Explore 20 Pandas Functions:**\n",
        "\n",
        "\n"
      ],
      "metadata": {
        "id": "dI4cmhgaq_9c"
      }
    },
    {
      "cell_type": "markdown",
      "source": [
        "1️⃣ **info() — Display dataset structure**\n",
        "\n",
        "Shows data types, non-null values, and memory usage."
      ],
      "metadata": {
        "id": "fS1tMRwXra7g"
      }
    },
    {
      "cell_type": "code",
      "source": [
        "print(employee.info())"
      ],
      "metadata": {
        "id": "DfsZ-_EHrh8m"
      },
      "execution_count": null,
      "outputs": []
    },
    {
      "cell_type": "markdown",
      "source": [
        "2️⃣ **describe() — Summary statistics**\n",
        "\n",
        "Gives statistical summary for numeric columns."
      ],
      "metadata": {
        "id": "NdKjyIsCrnjG"
      }
    },
    {
      "cell_type": "code",
      "source": [
        "print(employee.describe())"
      ],
      "metadata": {
        "id": "VTjavezxrrSS"
      },
      "execution_count": null,
      "outputs": []
    },
    {
      "cell_type": "markdown",
      "source": [
        "3️⃣ **columns — List all column names**\n",
        "\n",
        "Show all column names in the form of list."
      ],
      "metadata": {
        "id": "vYNLn9uUrwJo"
      }
    },
    {
      "cell_type": "code",
      "source": [
        "print(\"Columns:\", employee.columns)"
      ],
      "metadata": {
        "id": "55mnEIkysERi"
      },
      "execution_count": null,
      "outputs": []
    },
    {
      "cell_type": "markdown",
      "source": [
        "4️⃣ **dtypes — Show data types of each column**\n",
        "\n",
        "Show all columns data types."
      ],
      "metadata": {
        "id": "2pr6lYBJsXDg"
      }
    },
    {
      "cell_type": "code",
      "source": [
        "print(\"Data Types:\\n\", employee.dtypes)"
      ],
      "metadata": {
        "id": "h9CqgRtNshU0"
      },
      "execution_count": null,
      "outputs": []
    },
    {
      "cell_type": "markdown",
      "source": [
        "**5️⃣ iloc — Select specific rows and columns**\n",
        "\n",
        "Select rows 2-4 and first 3 columns."
      ],
      "metadata": {
        "id": "m5Zz0NrHsxAq"
      }
    },
    {
      "cell_type": "code",
      "source": [
        "print(employee.iloc[2:5, 0:4])"
      ],
      "metadata": {
        "id": "mW4p8NiDs6N4"
      },
      "execution_count": null,
      "outputs": []
    },
    {
      "cell_type": "markdown",
      "source": [
        "6️⃣ **fillna() — Replace missing values**\n",
        "\n",
        "Fill missing ages (if any) with average age."
      ],
      "metadata": {
        "id": "PBz8z8fdtEjL"
      }
    },
    {
      "cell_type": "code",
      "source": [
        "employee_filled = employee.fillna({\"Age\": employee[\"Age\"].mean() if \"Age\" in employee.columns else 0})\n",
        "print(employee_filled)"
      ],
      "metadata": {
        "id": "6ZoemNbVtJO4"
      },
      "execution_count": null,
      "outputs": []
    },
    {
      "cell_type": "markdown",
      "source": [
        "7️⃣**drop() — Drop a column**\n",
        "\n",
        "Drop the gender column (if exists)."
      ],
      "metadata": {
        "id": "NfRRuXdQt_gV"
      }
    },
    {
      "cell_type": "code",
      "source": [
        "employee_dropped = employee.drop(\"Position\", axis=1)  # axis = 1 means check 'Position' in column not rows.\n",
        "print(employee_dropped)"
      ],
      "metadata": {
        "id": "FRk196TouFn_"
      },
      "execution_count": null,
      "outputs": []
    },
    {
      "cell_type": "markdown",
      "source": [
        "8️⃣ **rename() — Rename a column**\n",
        "\n",
        "Rename “Salary” to “Income”."
      ],
      "metadata": {
        "id": "gCvMu6gUuhHL"
      }
    },
    {
      "cell_type": "code",
      "source": [
        "employee_renamed = employee.rename(columns={\"Salary\": \"Income\"})\n",
        "print(employee_renamed)"
      ],
      "metadata": {
        "id": "rbrEJA5Rulux"
      },
      "execution_count": null,
      "outputs": []
    },
    {
      "cell_type": "markdown",
      "source": [
        "9️⃣ **sort_values() — Sort by a column**\n",
        "\n",
        "Sort by Age in descending order."
      ],
      "metadata": {
        "id": "uSaXzeKrutWF"
      }
    },
    {
      "cell_type": "code",
      "source": [
        "if 'Age' in employee.columns:\n",
        "    employee_sorted = employee.sort_values(by='Age', ascending=False)\n",
        "    print(employee[['Employee_Name', 'Age']].head())\n",
        "\n",
        "else:\n",
        "  print(\"Age not found in DataFrame.\")"
      ],
      "metadata": {
        "id": "NFY1sOVluxz6"
      },
      "execution_count": null,
      "outputs": []
    },
    {
      "cell_type": "markdown",
      "source": [
        "🔟 **groupby() — Group and calculate mean salary**\n",
        "\n",
        "Find average salary per department."
      ],
      "metadata": {
        "id": "J2q58CXVvIa1"
      }
    },
    {
      "cell_type": "code",
      "source": [
        "if 'Department' in employee.columns and 'Salary' in employee.columns:\n",
        "    employee_grouped = employee.groupby('Department')['Salary'].mean()\n",
        "    print(employee_grouped)\n",
        "else:\n",
        "    print(\"Department or Salary column not found in the DataFrame.\")"
      ],
      "metadata": {
        "id": "viIIdNHWvLeT"
      },
      "execution_count": null,
      "outputs": []
    },
    {
      "cell_type": "markdown",
      "source": [
        "11️⃣ **apply() — Apply a function**\n",
        "\n",
        "Create a new column with square of Age."
      ],
      "metadata": {
        "id": "6WdbCjcDvx1s"
      }
    },
    {
      "cell_type": "code",
      "source": [
        "if 'Age' in employee.columns:\n",
        "  employee['Age_Squared'] = employee['Age'].apply(lambda x: x**2 if pd.notnull(x) else x)\n",
        "  print(employee[['Employee_Name', 'Age', 'Age_Squared']].head())"
      ],
      "metadata": {
        "id": "6YKW7vKJv6h1"
      },
      "execution_count": null,
      "outputs": []
    },
    {
      "cell_type": "markdown",
      "source": [
        "12️⃣ **concat() — Combine two DataFrames**\n",
        "\n",
        "Add a new record (Shayan) and merge with the main dataset."
      ],
      "metadata": {
        "id": "BQo14tgqwQoz"
      }
    },
    {
      "cell_type": "code",
      "source": [
        "data_extra = {\n",
        "    'Employee_ID': [30001],\n",
        "    'Employee_Name': ['Shayan'],\n",
        "    'Age': [19],\n",
        "    'Country': ['Pakistan'],\n",
        "    'Department': ['IT'],\n",
        "    'Position': ['Data Scientist'],\n",
        "    'Salary': [88000],\n",
        "    'Gender': ['M']\n",
        "    }\n",
        "\n",
        "employee_extra = pd.DataFrame(data_extra)\n",
        "employee_concat = pd.concat([employee, employee_extra], ignore_index=True)\n",
        "print(employee_concat.tail())"
      ],
      "metadata": {
        "id": "2ipRBg3wwXrJ"
      },
      "execution_count": null,
      "outputs": []
    },
    {
      "cell_type": "markdown",
      "source": [
        "13️⃣ **merge() — Join two DataFrames**\n",
        "\n",
        "Merge employee data with department locations."
      ],
      "metadata": {
        "id": "q07F7ki_xJdm"
      }
    },
    {
      "cell_type": "code",
      "source": [
        "data_extra_2 = {\n",
        "    'Department': ['HR', 'IT', 'Finance', 'Sales'],\n",
        "    'Location': ['Building A', 'Building B', 'Building C', 'Building D']\n",
        "}\n",
        "\n",
        "dept_info = pd.DataFrame(data_extra_2)\n",
        "\n",
        "employee_merged = pd.merge(employee, dept_info, on='Department', how='left') #how='left' keeps the left table exactly as it is and only fills in the corresponding values from the right table where matches exist.\n",
        "print(employee_merged[['Employee_Name', 'Department', 'Location']].head())"
      ],
      "metadata": {
        "id": "cv8J3UYVxNAG"
      },
      "execution_count": null,
      "outputs": []
    },
    {
      "cell_type": "markdown",
      "source": [
        "14️⃣ **duplicated() — Check for duplicates**\n",
        "\n",
        "Return True/False for each columns."
      ],
      "metadata": {
        "id": "pR_kOUxayB5m"
      }
    },
    {
      "cell_type": "code",
      "source": [
        "print(employee.duplicated())"
      ],
      "metadata": {
        "id": "WdNaK2gUyKe-"
      },
      "execution_count": null,
      "outputs": []
    },
    {
      "cell_type": "markdown",
      "source": [
        "15️⃣ **drop_duplicates() — Remove duplicates**\n",
        "\n",
        "Remove duplicates values (if any) from each column."
      ],
      "metadata": {
        "id": "RsnqS_JRyQrm"
      }
    },
    {
      "cell_type": "code",
      "source": [
        "print(employee.drop_duplicates().shape) # .shape() used to check total rows and columns after preforming drop_duplicates() functions."
      ],
      "metadata": {
        "colab": {
          "base_uri": "https://localhost:8080/"
        },
        "id": "7S-_JlTRya7D",
        "outputId": "cff9bebf-163c-42fd-f5df-6fa04bd489c6"
      },
      "execution_count": 36,
      "outputs": [
        {
          "output_type": "stream",
          "name": "stdout",
          "text": [
            "(30000, 9)\n"
          ]
        }
      ]
    },
    {
      "cell_type": "markdown",
      "source": [
        "16️⃣ **sample() — Random sample rows**\n",
        "\n",
        "Return sample rows."
      ],
      "metadata": {
        "id": "eQtuNHyvyqMh"
      }
    },
    {
      "cell_type": "code",
      "source": [
        "print(employee.sample(n=3)) # n define how many rows you want to see."
      ],
      "metadata": {
        "id": "Hh0SjzgCyxHo"
      },
      "execution_count": null,
      "outputs": []
    },
    {
      "cell_type": "markdown",
      "source": [
        "17️⃣ **sort_index() — Sort rows by index**\n",
        "\n",
        "Sort the index either in ascending or descending order."
      ],
      "metadata": {
        "id": "5dRv70X7y6Gh"
      }
    },
    {
      "cell_type": "code",
      "source": [
        "print(employee.sort_index(ascending=False).head())"
      ],
      "metadata": {
        "id": "UMrgA71RzEg9"
      },
      "execution_count": null,
      "outputs": []
    },
    {
      "cell_type": "markdown",
      "source": [
        "18️⃣ **set_index() — Set a column as index**\n",
        "\n",
        "Set particular columns as index."
      ],
      "metadata": {
        "id": "59LT9Cp8zMhh"
      }
    },
    {
      "cell_type": "code",
      "source": [
        "if 'Employee_ID' in employee.columns:\n",
        "    employee_indexed = employee.set_index('Employee_ID')\n",
        "    print(employee_indexed.head())"
      ],
      "metadata": {
        "id": "KI-EFDC5zTAf"
      },
      "execution_count": null,
      "outputs": []
    },
    {
      "cell_type": "markdown",
      "source": [
        "19️⃣ **reset_index() — Reset index back to default**\n",
        "\n",
        "Removes the current custom index (like Employee_ID which i set manually) and replaces it with the default integer index (0, 1, 2, …)."
      ],
      "metadata": {
        "id": "wejzFhNkzdgr"
      }
    },
    {
      "cell_type": "code",
      "source": [
        "print(employee.reset_index().head())"
      ],
      "metadata": {
        "id": "fyxzTBVozsRh"
      },
      "execution_count": null,
      "outputs": []
    },
    {
      "cell_type": "markdown",
      "source": [
        "20️⃣ **query() — Filter with conditions using SQL Queries**\n",
        "\n",
        "Find finance department employees with salary > 60000."
      ],
      "metadata": {
        "id": "NRM76rhkzyJk"
      }
    },
    {
      "cell_type": "code",
      "source": [
        "if 'Department' in employee.columns and 'Salary' in employee.columns:\n",
        "    print(employee.query(\"Department == 'Finance' and Salary > 60000\").head())"
      ],
      "metadata": {
        "id": "b6p7oFnCz1Gw"
      },
      "execution_count": null,
      "outputs": []
    }
  ]
}